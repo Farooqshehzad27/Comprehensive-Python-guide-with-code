{
 "cells": [
  {
   "cell_type": "markdown",
   "metadata": {},
   "source": [
    "# Lab Activity: Inheritance, Method Overriding, and super() in OOP\n"
   ]
  },
  {
   "cell_type": "markdown",
   "metadata": {},
   "source": [
    "# 1. Inheritance \n",
    "\n",
    "### Concept:\n",
    "Inheritance enables child classes to inherit properties and behaviors from a parent class, providing reusable class structures.\n",
    "\n",
    "### Task 1: Library System\n",
    "1. Define a parent class `Book` with attributes like `title`, `author`, `ISBN`, and a method `get_details()` to print details.\n",
    "2. Create child classes `FictionBook` and `NonFictionBook` with extra attributes (genre and subject, respectively).\n",
    "3. Override `get_details()` to include the new attributes.\n"
   ]
  },
  {
   "cell_type": "code",
   "execution_count": null,
   "metadata": {},
   "outputs": [
    {
     "name": "stdout",
     "output_type": "stream",
     "text": [
      "Title: 1984, Author: George Orwell, ISBN: 123-456789, Genre: Dystopian\n",
      "Title: Sapiens, Author: Yuval Noah Harari, ISBN: 987-654321, Subject: History\n"
     ]
    }
   ],
   "source": [
    "# Parent Class: Book\n",
    "class Book:\n",
    "    def __init__(self, title, author, ISBN):\n",
    "        self.title = title\n",
    "        self.author = author\n",
    "        self.ISBN = ISBN\n",
    "\n",
    "    def get_details(self):\n",
    "        return f\"Title: {self.title}, Author: {self.author}, ISBN: {self.ISBN}\"\n",
    "\n",
    "# Child Class: FictionBook\n",
    "class FictionBook(Book):\n",
    "    def __init__(self, title, author, ISBN, genre):\n",
    "        super().__init__(title, author, ISBN)\n",
    "        self.genre = genre\n",
    "\n",
    "    def get_details(self):\n",
    "        return f\"{super().get_details()}, Genre: {self.genre}\"\n",
    "\n",
    "# Child Class: NonFictionBook\n",
    "class NonFictionBook(Book):\n",
    "    def __init__(self, title, author, ISBN, subject):\n",
    "        super().__init__(title, author, ISBN)\n",
    "        self.subject = subject\n",
    "\n",
    "    def get_details(self):\n",
    "        return f\"{super().get_details()}, Subject: {self.subject}\"\n",
    "\n",
    "# Testing\n",
    "fiction = FictionBook(\"1984\", \"George Orwell\", \"123-456789\", \"Dystopian\")\n",
    "non_fiction = NonFictionBook(\"Sapiens\", \"Yuval Noah Harari\", \"987-654321\", \"History\")\n",
    "\n",
    "print(fiction.get_details())  # Output: Title: 1984, Author: George Orwell, ISBN: 123-456789, Genre: Dystopian\n",
    "print(non_fiction.get_details())  # Output: Title: Sapiens, Author: Yuval Noah Harari, ISBN: 987-654321, Subject: History\n"
   ]
  },
  {
   "cell_type": "code",
   "execution_count": 13,
   "metadata": {},
   "outputs": [
    {
     "name": "stdout",
     "output_type": "stream",
     "text": [
      "Class B\n"
     ]
    }
   ],
   "source": [
    "class A:\n",
    "    \n",
    "    def get_data(self):\n",
    "         print(\"Class A get data\")\n",
    "\n",
    "class B(A):\n",
    "    def __init__(self):\n",
    "        #super().__init__()\n",
    "        print(\"Class B\")\n",
    "        \n",
    "b=B()\n",
    "\n"
   ]
  },
  {
   "cell_type": "code",
   "execution_count": 12,
   "metadata": {},
   "outputs": [
    {
     "name": "stdout",
     "output_type": "stream",
     "text": [
      "Class A get data\n"
     ]
    }
   ],
   "source": [
    "b.get_data()"
   ]
  },
  {
   "cell_type": "markdown",
   "metadata": {},
   "source": [
    "# Create an EBook class that inherits from Book and overrides is_available() to always return True."
   ]
  },
  {
   "cell_type": "code",
   "execution_count": 1,
   "metadata": {},
   "outputs": [
    {
     "name": "stdout",
     "output_type": "stream",
     "text": [
      "Title: Digital Fortress, Author: Dan Brown, ISBN: 555-333222\n",
      "True\n"
     ]
    }
   ],
   "source": [
    "# Parent Class: Book\n",
    "class Book:\n",
    "    # Constructor for initializing the book details\n",
    "    def __init__(self, title, author, ISBN):\n",
    "        self.title = title\n",
    "        self.author = author\n",
    "        self.ISBN = ISBN\n",
    "\n",
    "    # Method to get details of the book\n",
    "    def get_details(self):\n",
    "        return f\"Title: {self.title}, Author: {self.author}, ISBN: {self.ISBN}\"\n",
    "\n",
    "# Child Class: EBook (Inherits from Book)\n",
    "class EBook(Book):\n",
    "    # Method to check if the eBook is available\n",
    "    def is_available(self):\n",
    "        return True\n",
    "\n",
    "# Testing EBook\n",
    "ebook = EBook(\"Digital Fortress\", \"Dan Brown\", \"555-333222\")\n",
    "\n",
    "# This will print the details of the ebook using the get_details method from the Book class\n",
    "print(ebook.get_details())  # Output: Title: Digital Fortress, Author: Dan Brown, ISBN: 555-333222\n",
    "\n",
    "# This will print True as the result of calling the is_available method from the EBook class\n",
    "print(ebook.is_available())  # Output: True\n"
   ]
  },
  {
   "cell_type": "markdown",
   "metadata": {},
   "source": [
    "# 2. Overriding Parent Methods and Using `super()`\n",
    "\n",
    "### Concept:\n",
    "Overriding allows a child class to redefine methods from its parent class. The `super()` function allows calling the parent's method inside the overriding method for extended functionality.\n",
    "\n",
    "### Task 2: Bank System\n",
    "1. Create a parent class `Account` with attributes like `owner_name`, `balance`, and methods `deposit(amount)` and `withdraw(amount)`.\n",
    "2. Create child classes `SavingsAccount` and `CheckingAccount`. \n",
    "   - In `SavingsAccount`, enforce a minimum balance.\n",
    "   - In `CheckingAccount`, implement an overdraft limit.\n",
    "3. Override the `withdraw()` method to reflect these behaviors.\n"
   ]
  },
  {
   "cell_type": "code",
   "execution_count": 3,
   "metadata": {},
   "outputs": [
    {
     "name": "stdout",
     "output_type": "stream",
     "text": [
      "Cannot withdraw 600. Minimum balance of 500 must be maintained.\n",
      "Withdrew 400. New balance is 600\n",
      "Insufficient balance!\n",
      "Withdrew 500. New balance is 500\n"
     ]
    }
   ],
   "source": [
    "# Parent Class: Account\n",
    "class Account:\n",
    "    def __init__(self, owner_name, balance):\n",
    "        self.owner_name = owner_name\n",
    "        self.balance = balance\n",
    "\n",
    "    def deposit(self, amount):\n",
    "        self.balance += amount\n",
    "        print(f\"Deposited {amount}. New balance is {self.balance}\")\n",
    "\n",
    "    def withdraw(self, amount):\n",
    "        if amount > self.balance:\n",
    "            print(\"Insufficient balance!\")\n",
    "        else:\n",
    "            self.balance -= amount\n",
    "            print(f\"Withdrew {amount}. New balance is {self.balance}\")\n",
    "\n",
    "# Child Class: SavingsAccount with Minimum Balance Requirement\n",
    "class SavingsAccount(Account):\n",
    "    def __init__(self, owner_name, balance, min_balance):\n",
    "        super().__init__(owner_name, balance)\n",
    "        self.min_balance = min_balance\n",
    "\n",
    "    def withdraw(self, amount):\n",
    "        if self.balance - amount < self.min_balance:\n",
    "            print(f\"Cannot withdraw {amount}. Minimum balance of {self.min_balance} must be maintained.\")\n",
    "        else:\n",
    "            super().withdraw(amount)\n",
    "\n",
    "# Child Class: CheckingAccount with Overdraft Limit\n",
    "class CheckingAccount(Account):\n",
    "    def __init__(self, owner_name, balance, overdraft_limit):\n",
    "        super().__init__(owner_name, balance)\n",
    "        self.overdraft_limit = overdraft_limit\n",
    "\n",
    "    def withdraw(self, amount):\n",
    "        if self.balance - amount < -self.overdraft_limit:\n",
    "            print(f\"Cannot withdraw {amount}. Overdraft limit of {self.overdraft_limit} exceeded.\")\n",
    "        else:\n",
    "            super().withdraw(amount)\n",
    "\n",
    "# Testing\n",
    "savings = SavingsAccount(\"Alice\", 1000, 500)\n",
    "savings.withdraw(600)  # Output: Cannot withdraw 600. Minimum balance of 500 must be maintained.\n",
    "savings.withdraw(400)  # Output: Withdrew 400. New balance is 600.\n",
    "\n",
    "checking = CheckingAccount(\"Bob\", 1000, 300)\n",
    "checking.withdraw(1300)  # Output: Withdrew 1300. New balance is -300.\n",
    "checking.withdraw(500)  # Output: Cannot withdraw 500. Overdraft limit of 300 exceeded.\n"
   ]
  },
  {
   "cell_type": "markdown",
   "metadata": {},
   "source": [
    "# 3. Hybrid Inheritance\n",
    "\n",
    "### Concept:\n",
    "Hybrid inheritance is a combination of multiple inheritance patterns (e.g., multilevel, multiple, and single inheritance).\n",
    "\n",
    "### Task 3: Employee Management System\n",
    "1. Create a parent class `Employee` with attributes like `name` and `salary`, and methods like `get_details()`.\n",
    "2. Create two child classes:\n",
    "   - `Manager` inherits from `Employee` and adds `department`.\n",
    "   - `Engineer` inherits from `Employee` and adds `specialization`.\n",
    "3. Create a class `TeamLead` that inherits from both `Manager` and `Engineer` and overrides `get_details()` to include all the attributes."
   ]
  },
  {
   "cell_type": "code",
   "execution_count": null,
   "metadata": {},
   "outputs": [],
   "source": []
  },
  {
   "cell_type": "markdown",
   "metadata": {},
   "source": [
    " ### Another Example of Atm\n",
    "\n",
    "The `BankAccount` class serves as a parent class representing a bank account. It includes attributes like `account_number`, which uniquely identifies the bank account, and `balance`, which holds the current balance of the account. This example extends the functionality to include transaction history for better tracking of deposits and withdrawals.\n",
    "\n",
    "In the `ATM` class, we maintain the structure of the original ATM functionality while allowing users to view their transaction history securely after validating their PIN.\n"
   ]
  },
  {
   "cell_type": "markdown",
   "metadata": {},
   "source": [
    "# Parent Class: BankAccount"
   ]
  },
  {
   "cell_type": "code",
   "execution_count": null,
   "metadata": {},
   "outputs": [],
   "source": [
    "\n",
    "#Parent Class: BankAccount\n",
    "class BankAccount:\n",
    "    def __init__(self, account_number, balance=0):\n",
    "        self.account_number = account_number\n",
    "        self.balance = balance\n",
    "\n",
    "    def deposit(self, amount):\n",
    "        if amount > 0:\n",
    "            self.balance += amount\n",
    "            print(f\"Deposited {amount}. New balance is {self.balance}.\")\n",
    "        else:\n",
    "            print(\"Invalid deposit amount.\")\n",
    "\n",
    "    def withdraw(self, amount):\n",
    "        if amount > 0 and amount <= self.balance:\n",
    "            self.balance -= amount\n",
    "            print(f\"Withdrew {amount}. New balance is {self.balance}.\")\n",
    "        else:\n",
    "            print(\"Invalid withdrawal amount or insufficient funds.\")\n",
    "\n",
    "    def check_balance(self):\n",
    "        print(f\"Current balance is {self.balance}.\")\n",
    "#Parent Class: BankAccount"
   ]
  },
  {
   "cell_type": "markdown",
   "metadata": {},
   "source": [
    " # Child Class: ATM"
   ]
  },
  {
   "cell_type": "code",
   "execution_count": null,
   "metadata": {},
   "outputs": [],
   "source": [
    "class ATM(BankAccount):\n",
    "    def __init__(self, account_number, balance=0):\n",
    "        super().__init__(account_number, balance)\n",
    "        self.pin = ''\n",
    "\n",
    "    def set_pin(self, pin):\n",
    "        self.pin = pin\n",
    "        print(\"PIN set successfully.\")\n",
    "\n",
    "    def validate_pin(self, pin):\n",
    "        if self.pin == pin:\n",
    "            return True\n",
    "        else:\n",
    "            print(\"Invalid PIN.\")\n",
    "            return False\n",
    "\n",
    "    def atm_deposit(self, amount, pin):\n",
    "        if self.validate_pin(pin):\n",
    "            self.deposit(amount)\n",
    "\n",
    "    def atm_withdraw(self, amount, pin):\n",
    "        if self.validate_pin(pin):\n",
    "            self.withdraw(amount)\n",
    "\n",
    "    def atm_check_balance(self, pin):\n",
    "        if self.validate_pin(pin):\n",
    "            self.check_balance()\n"
   ]
  },
  {
   "cell_type": "markdown",
   "metadata": {},
   "source": [
    "# Create an instance of the ATM class"
   ]
  },
  {
   "cell_type": "code",
   "execution_count": null,
   "metadata": {},
   "outputs": [],
   "source": [
    "# Create an instance of the ATM class\n",
    "my_account = ATM(account_number=\"123456789\", balance=5000)"
   ]
  },
  {
   "cell_type": "code",
   "execution_count": null,
   "metadata": {},
   "outputs": [],
   "source": [
    "# Set the PIN for the account\n",
    "my_account.set_pin(\"2525\")"
   ]
  },
  {
   "cell_type": "code",
   "execution_count": null,
   "metadata": {},
   "outputs": [],
   "source": [
    "# Perform ATM operations\n",
    "my_account.atm_deposit(500, \"2525\")  # Deposits 500 into the account\n",
    "my_account.atm_withdraw(200, \"2525\")  # Withdraws 200 from the account\n",
    "my_account.atm_check_balance(\"2525\")  # Checks the balance"
   ]
  },
  {
   "cell_type": "code",
   "execution_count": null,
   "metadata": {},
   "outputs": [],
   "source": [
    "# Attempt an operation with the wrong PIN\n",
    "my_account.atm_withdraw(400, \"2525\")  # Invalid PIN"
   ]
  }
 ],
 "metadata": {
  "kernelspec": {
   "display_name": "farooq",
   "language": "python",
   "name": "python3"
  },
  "language_info": {
   "codemirror_mode": {
    "name": "ipython",
    "version": 3
   },
   "file_extension": ".py",
   "mimetype": "text/x-python",
   "name": "python",
   "nbconvert_exporter": "python",
   "pygments_lexer": "ipython3",
   "version": "3.10.14"
  }
 },
 "nbformat": 4,
 "nbformat_minor": 2
}
